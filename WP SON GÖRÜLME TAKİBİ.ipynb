{
 "cells": [
  {
   "cell_type": "code",
   "execution_count": null,
   "metadata": {},
   "outputs": [],
   "source": [
    "#                               !!!UYARILAR!!!\n",
    "#1-)Önce barkodu okutmanız, ardından kişinin ismini girmeniz gerekiyor..\n",
    "#2-)Sohbetlerde olmayan kişiyi göstermiyor.\n",
    "#3-)Pythondaki fonksiyonlardan kaynaklı saniye bazlı hatalar olabiliyor.\n",
    "#4-)Girdiğiniz takip süresi bitince otomatik olarak web whatsapp kapanacaktır.\n",
    "#Eğer kapanmasını istemiyorsanız driver.close() satırını yorum haline getirin.\n",
    "\n",
    "from selenium import webdriver\n",
    "import time\n",
    "import datetime\n",
    "from webdriver_manager.chrome import ChromeDriverManager\n",
    "#aşağıdaki tam ekran olması için gerekli\n",
    "from selenium.webdriver.support.ui import WebDriverWait \n",
    "\n",
    "driver = webdriver.Chrome(ChromeDriverManager().install())\n",
    "driver.get('https://web.whatsapp.com/')\n",
    "\n",
    "#aşağıdaki tam ekran olması için gerekli\n",
    "wait = WebDriverWait(driver, 600)\n",
    "driver.maximize_window()\n",
    "\n",
    "Name = input(\"Kişinin ismini giriniz: \")\n",
    "saniye = int(input(\"Kaç saniyede bir bildirim almak istersiniz?: \"))\n",
    "dakika = int(input(\"Kaç dakika boyunca takip edilsin?: \"))\n",
    "süre = 60 * dakika\n",
    "print(\"{} saniye sonra ilk bildirimi göreceksiniz...\".format(saniye))\n",
    "\n",
    "user = driver.find_element_by_xpath('//span[@title = \"{}\"]'.format(Name))\n",
    "user.click()    \n",
    "\n",
    "b = time.clock()  # toplam geçen sn miktarı\n",
    "\n",
    "while (süre >= b):\n",
    "\n",
    "    try:\n",
    "        time.sleep(saniye)\n",
    "        is_online = driver.find_element_by_class_name('O90ur')\n",
    "        if (is_online.text == \"çevrimiçi\"):        \n",
    "            çevrimiçi_anı = datetime.datetime.now()\n",
    "            print(\"{}, şu an ÇEVRİMİÇİ --> {}\".format(Name,çevrimiçi_anı))\n",
    "            \n",
    "        else: # (son görülmesi açık ama çevrimdışı)\n",
    "            print(is_online.text)\n",
    "        \n",
    "    except: # (boşluk olacağı için hata veriyor yani çevrimdışı)\n",
    "        çevrimdışı_anı = datetime.datetime.now()\n",
    "        print(\"{} şu an çevrimdışı(son görülme kapalı) --> {}\".format(Name,çevrimdışı_anı))\n",
    "    b = time.clock()\n",
    "        \n",
    "driver.close()    \n",
    "print(\"Belirttiğiniz süre doldu...\")       "
   ]
  }
 ],
 "metadata": {
  "kernelspec": {
   "display_name": "Python 3",
   "language": "python",
   "name": "python3"
  },
  "language_info": {
   "codemirror_mode": {
    "name": "ipython",
    "version": 3
   },
   "file_extension": ".py",
   "mimetype": "text/x-python",
   "name": "python",
   "nbconvert_exporter": "python",
   "pygments_lexer": "ipython3",
   "version": "3.5.2"
  }
 },
 "nbformat": 4,
 "nbformat_minor": 2
}
